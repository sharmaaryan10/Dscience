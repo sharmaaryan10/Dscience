{
 "cells": [
  {
   "cell_type": "code",
   "execution_count": 2,
   "id": "e76aef31",
   "metadata": {},
   "outputs": [
    {
     "name": "stdout",
     "output_type": "stream",
     "text": [
      "1.24.3\n"
     ]
    }
   ],
   "source": [
    "import numpy as np\n",
    "print(np.__version__)"
   ]
  },
  {
   "cell_type": "code",
   "execution_count": 3,
   "id": "4bcd4662",
   "metadata": {},
   "outputs": [
    {
     "name": "stdout",
     "output_type": "stream",
     "text": [
      "[1 2 3 4 5 6 7 8 9]\n",
      "<class 'numpy.ndarray'>\n"
     ]
    }
   ],
   "source": [
    "l = [1,2,3,4,5,6,7,8,9]\n",
    "x = np.array(l)\n",
    "print(x)\n",
    "print(type(x))"
   ]
  },
  {
   "cell_type": "code",
   "execution_count": 4,
   "id": "6e54da38",
   "metadata": {},
   "outputs": [
    {
     "name": "stdout",
     "output_type": "stream",
     "text": [
      "[ 6  7  8  9 10 11 12 13 14]\n",
      "[-4 -3 -2 -1  0  1  2  3  4]\n",
      "[ 5 10 15 20 25 30 35 40 45]\n",
      "[0.2 0.4 0.6 0.8 1.  1.2 1.4 1.6 1.8]\n"
     ]
    }
   ],
   "source": [
    "print(x+5)\n",
    "print(x-5)\n",
    "print(x*5)\n",
    "print(x/5)"
   ]
  },
  {
   "cell_type": "code",
   "execution_count": 5,
   "id": "05a13447",
   "metadata": {},
   "outputs": [
    {
     "name": "stdout",
     "output_type": "stream",
     "text": [
      "[ 7  9 11 13 15]\n"
     ]
    }
   ],
   "source": [
    "# must have equal no of items in both the numpy array\n",
    "\n",
    "a = np.array([1,2,3,4,5])\n",
    "b = np.array([6,7,8,9,10])\n",
    "c = a+b\n",
    "print(c)"
   ]
  },
  {
   "cell_type": "code",
   "execution_count": 7,
   "id": "c14ec23a",
   "metadata": {},
   "outputs": [
    {
     "name": "stdout",
     "output_type": "stream",
     "text": [
      "(5,)\n"
     ]
    }
   ],
   "source": [
    "a = np.array([1,2,3,4,5])\n",
    "print(a.shape)\n",
    "# a.shape"
   ]
  },
  {
   "cell_type": "code",
   "execution_count": 11,
   "id": "3e77721c",
   "metadata": {},
   "outputs": [
    {
     "name": "stdout",
     "output_type": "stream",
     "text": [
      "(2, 5)\n"
     ]
    }
   ],
   "source": [
    "a = np.array([[1,2,3,4,5],\n",
    "              [6,7,8,9,10]])\n",
    "print(a.shape)\n",
    "\n",
    "# in output it means 2 rows, 5 columns i.e\n",
    "# columnns no. & its data must be same in both row as like in matrix"
   ]
  },
  {
   "cell_type": "code",
   "execution_count": 13,
   "id": "45e0efff",
   "metadata": {},
   "outputs": [
    {
     "name": "stdout",
     "output_type": "stream",
     "text": [
      "(2, 2, 3)\n"
     ]
    }
   ],
   "source": [
    "# 3D data\n",
    "\n",
    "a = np.array([[[1,2,3],[4,5,0]],\n",
    "              [[6,7,8],[9,10,0]]])\n",
    "print(a.shape)"
   ]
  },
  {
   "cell_type": "code",
   "execution_count": 14,
   "id": "b1625fd1",
   "metadata": {},
   "outputs": [
    {
     "data": {
      "text/plain": [
       "array([[0., 0., 0.],\n",
       "       [0., 0., 0.],\n",
       "       [0., 0., 0.]])"
      ]
     },
     "execution_count": 14,
     "metadata": {},
     "output_type": "execute_result"
    }
   ],
   "source": [
    "np.zeros((3,3))"
   ]
  },
  {
   "cell_type": "code",
   "execution_count": 15,
   "id": "197a3b3a",
   "metadata": {},
   "outputs": [
    {
     "data": {
      "text/plain": [
       "array([[[0., 0., 0.],\n",
       "        [0., 0., 0.],\n",
       "        [0., 0., 0.]],\n",
       "\n",
       "       [[0., 0., 0.],\n",
       "        [0., 0., 0.],\n",
       "        [0., 0., 0.]],\n",
       "\n",
       "       [[0., 0., 0.],\n",
       "        [0., 0., 0.],\n",
       "        [0., 0., 0.]]])"
      ]
     },
     "execution_count": 15,
     "metadata": {},
     "output_type": "execute_result"
    }
   ],
   "source": [
    "np.zeros((3,3,3))"
   ]
  },
  {
   "cell_type": "code",
   "execution_count": 16,
   "id": "2a8fd124",
   "metadata": {},
   "outputs": [
    {
     "data": {
      "text/plain": [
       "array([[[1., 1., 1.],\n",
       "        [1., 1., 1.],\n",
       "        [1., 1., 1.]],\n",
       "\n",
       "       [[1., 1., 1.],\n",
       "        [1., 1., 1.],\n",
       "        [1., 1., 1.]],\n",
       "\n",
       "       [[1., 1., 1.],\n",
       "        [1., 1., 1.],\n",
       "        [1., 1., 1.]]])"
      ]
     },
     "execution_count": 16,
     "metadata": {},
     "output_type": "execute_result"
    }
   ],
   "source": [
    "np.ones((3,3,3))"
   ]
  },
  {
   "cell_type": "code",
   "execution_count": 18,
   "id": "3b8d3250",
   "metadata": {},
   "outputs": [
    {
     "data": {
      "text/plain": [
       "array([[[1.],\n",
       "        [1.],\n",
       "        [1.]],\n",
       "\n",
       "       [[1.],\n",
       "        [1.],\n",
       "        [1.]],\n",
       "\n",
       "       [[1.],\n",
       "        [1.],\n",
       "        [1.]]])"
      ]
     },
     "execution_count": 18,
     "metadata": {},
     "output_type": "execute_result"
    }
   ],
   "source": [
    "np.ones((3,3,1))"
   ]
  },
  {
   "cell_type": "code",
   "execution_count": 19,
   "id": "800031bb",
   "metadata": {},
   "outputs": [
    {
     "data": {
      "text/plain": [
       "array([[1., 0., 0.],\n",
       "       [0., 1., 0.],\n",
       "       [0., 0., 1.]])"
      ]
     },
     "execution_count": 19,
     "metadata": {},
     "output_type": "execute_result"
    }
   ],
   "source": [
    "# identity matrix\n",
    "\n",
    "np.eye(3,3)"
   ]
  },
  {
   "cell_type": "markdown",
   "id": "dce792f5",
   "metadata": {},
   "source": [
    "# shaping"
   ]
  },
  {
   "cell_type": "code",
   "execution_count": 20,
   "id": "eae1a4da",
   "metadata": {},
   "outputs": [
    {
     "name": "stdout",
     "output_type": "stream",
     "text": [
      "(2, 3)\n",
      "[[1 2]\n",
      " [3 4]\n",
      " [5 6]]\n",
      "[[1 2 3 4 5 6]]\n",
      "[[1 2]\n",
      " [3 4]\n",
      " [5 6]]\n",
      "[[1]\n",
      " [2]\n",
      " [3]\n",
      " [4]\n",
      " [5]\n",
      " [6]]\n"
     ]
    }
   ],
   "source": [
    "a = np.array([[1,2,3],\n",
    "             [4,5,6]])\n",
    "print(a.shape)\n",
    "print(a.reshape(3,2))\n",
    "print(a.reshape(1,6))\n",
    "print(a.reshape(3,2))\n",
    "print(a.reshape(6,1))"
   ]
  },
  {
   "cell_type": "markdown",
   "id": "b2612d17",
   "metadata": {},
   "source": [
    "# horizontal & vertical stacking"
   ]
  },
  {
   "cell_type": "code",
   "execution_count": 21,
   "id": "0e2abedf",
   "metadata": {},
   "outputs": [
    {
     "data": {
      "text/plain": [
       "array([[ 2,  4,  6],\n",
       "       [ 8, 10, 12]])"
      ]
     },
     "execution_count": 21,
     "metadata": {},
     "output_type": "execute_result"
    }
   ],
   "source": [
    "a = np.array([[1,2,3],\n",
    "             [4,5,6]])\n",
    "b = np.array([[1,2,3],\n",
    "             [4,5,6]])\n",
    "c = a+b\n",
    "c"
   ]
  },
  {
   "cell_type": "code",
   "execution_count": 22,
   "id": "41f7117a",
   "metadata": {},
   "outputs": [
    {
     "data": {
      "text/plain": [
       "array([[ 1,  2,  3, 11, 22, 33],\n",
       "       [ 4,  5,  6, 44, 55, 66]])"
      ]
     },
     "execution_count": 22,
     "metadata": {},
     "output_type": "execute_result"
    }
   ],
   "source": [
    "a = np.array([[1,2,3],\n",
    "             [4,5,6]])\n",
    "b = np.array([[11,22,33],\n",
    "             [44,55,66]])\n",
    "np.hstack((a,b))"
   ]
  },
  {
   "cell_type": "code",
   "execution_count": 23,
   "id": "37c547da",
   "metadata": {},
   "outputs": [
    {
     "data": {
      "text/plain": [
       "array([[ 1,  2,  3],\n",
       "       [ 4,  5,  6],\n",
       "       [11, 22, 33],\n",
       "       [44, 55, 66]])"
      ]
     },
     "execution_count": 23,
     "metadata": {},
     "output_type": "execute_result"
    }
   ],
   "source": [
    "a = np.array([[1,2,3],\n",
    "             [4,5,6]])\n",
    "b = np.array([[11,22,33],\n",
    "             [44,55,66]])\n",
    "np.vstack((a,b))"
   ]
  },
  {
   "cell_type": "code",
   "execution_count": 27,
   "id": "d0719252",
   "metadata": {},
   "outputs": [
    {
     "data": {
      "text/plain": [
       "array([[ 1,  2,  3],\n",
       "       [11, 22, 33]])"
      ]
     },
     "execution_count": 27,
     "metadata": {},
     "output_type": "execute_result"
    }
   ],
   "source": [
    "a = np.array([1,2,3])\n",
    "b = np.array([11,22,33])\n",
    "np.vstack((a,b))"
   ]
  },
  {
   "cell_type": "code",
   "execution_count": 28,
   "id": "6f67ab15",
   "metadata": {},
   "outputs": [
    {
     "data": {
      "text/plain": [
       "array([ 1,  2,  3, 11, 22, 33, 34])"
      ]
     },
     "execution_count": 28,
     "metadata": {},
     "output_type": "execute_result"
    }
   ],
   "source": [
    "a = np.array([1,2,3])\n",
    "b = np.array([11,22,33,34])\n",
    "np.hstack((a,b))"
   ]
  },
  {
   "cell_type": "markdown",
   "id": "9d198ea7",
   "metadata": {},
   "source": [
    "# generate random numbers"
   ]
  },
  {
   "cell_type": "code",
   "execution_count": 30,
   "id": "ad98e406",
   "metadata": {},
   "outputs": [
    {
     "name": "stdout",
     "output_type": "stream",
     "text": [
      "[[0.71415319 0.15944982]\n",
      " [0.42097658 0.81212561]]\n"
     ]
    }
   ],
   "source": [
    "print(np.random.rand(2,2))"
   ]
  },
  {
   "cell_type": "code",
   "execution_count": 31,
   "id": "5e393f7f",
   "metadata": {},
   "outputs": [
    {
     "name": "stdout",
     "output_type": "stream",
     "text": [
      "[[0.18980385 0.5828834  0.9344476  0.63465256 0.45057873]\n",
      " [0.11047705 0.7553996  0.15633454 0.47866881 0.01075729]\n",
      " [0.96708286 0.65951135 0.15474877 0.73998827 0.30477261]\n",
      " [0.47349276 0.88895701 0.24486393 0.39974948 0.21663862]\n",
      " [0.08804707 0.26598699 0.08101071 0.37742213 0.61809959]]\n"
     ]
    }
   ],
   "source": [
    "print(np.random.rand(5,5))"
   ]
  },
  {
   "cell_type": "code",
   "execution_count": 36,
   "id": "18880914",
   "metadata": {},
   "outputs": [
    {
     "name": "stdout",
     "output_type": "stream",
     "text": [
      "[[1 0 1 2 6]\n",
      " [1 4 3 1 7]\n",
      " [2 1 5 6 3]\n",
      " [6 2 9 2 2]\n",
      " [1 5 0 0 2]]\n"
     ]
    }
   ],
   "source": [
    "print(np.random.randint(0,10, size=[5,5]))"
   ]
  },
  {
   "cell_type": "code",
   "execution_count": 39,
   "id": "c5b431f3",
   "metadata": {},
   "outputs": [
    {
     "name": "stdout",
     "output_type": "stream",
     "text": [
      "['e' 'i' 'e' 'o' 'e' 'u' 'e' 'o' 'i' 'o']\n"
     ]
    }
   ],
   "source": [
    "print(np.random.choice(['a','e','i','o','u'], size=10))"
   ]
  },
  {
   "cell_type": "code",
   "execution_count": 38,
   "id": "14696f84",
   "metadata": {},
   "outputs": [
    {
     "name": "stdout",
     "output_type": "stream",
     "text": [
      "[['e' 'i' 'e' 'a']\n",
      " ['e' 'u' 'i' 'a']\n",
      " ['i' 'u' 'i' 'u']\n",
      " ['o' 'u' 'u' 'a']\n",
      " ['o' 'u' 'u' 'i']\n",
      " ['u' 'e' 'i' 'a']\n",
      " ['u' 'i' 'o' 'e']\n",
      " ['a' 'i' 'a' 'u']\n",
      " ['a' 'u' 'o' 'i']\n",
      " ['u' 'a' 'i' 'o']]\n"
     ]
    }
   ],
   "source": [
    "print(np.random.choice(['a','e','i','o','u'], size=[10,4]))"
   ]
  },
  {
   "cell_type": "code",
   "execution_count": 42,
   "id": "24ed59fe",
   "metadata": {},
   "outputs": [
    {
     "name": "stdout",
     "output_type": "stream",
     "text": [
      "['e' 'e' 'o' 'a' 'i' 'a' 'o' 'u' 'a' 'o']\n"
     ]
    }
   ],
   "source": [
    "# adding probability to randomness\n",
    "\n",
    "print(np.random.choice(['a','e','i','o','u'], size=10, p=[0.3,0.1,0.1,0.4,0.1]))"
   ]
  },
  {
   "cell_type": "code",
   "execution_count": 43,
   "id": "d365635a",
   "metadata": {},
   "outputs": [
    {
     "name": "stdout",
     "output_type": "stream",
     "text": [
      "[['a' 'a' 'e' 'o']\n",
      " ['o' 'u' 'i' 'u']\n",
      " ['a' 'a' 'u' 'a']\n",
      " ['u' 'a' 'o' 'e']\n",
      " ['u' 'e' 'e' 'o']\n",
      " ['i' 'e' 'e' 'o']\n",
      " ['o' 'e' 'u' 'o']\n",
      " ['i' 'u' 'u' 'e']\n",
      " ['a' 'e' 'u' 'o']\n",
      " ['o' 'o' 'i' 'u']]\n"
     ]
    },
    {
     "ename": "TypeError",
     "evalue": "unsupported operand type(s) for +: 'NoneType' and 'str'",
     "output_type": "error",
     "traceback": [
      "\u001b[1;31m---------------------------------------------------------------------------\u001b[0m",
      "\u001b[1;31mTypeError\u001b[0m                                 Traceback (most recent call last)",
      "Cell \u001b[1;32mIn[43], line 3\u001b[0m\n\u001b[0;32m      1\u001b[0m \u001b[38;5;66;03m# no concatenation on string\u001b[39;00m\n\u001b[1;32m----> 3\u001b[0m \u001b[38;5;28mprint\u001b[39m(np\u001b[38;5;241m.\u001b[39mrandom\u001b[38;5;241m.\u001b[39mchoice([\u001b[38;5;124m'\u001b[39m\u001b[38;5;124ma\u001b[39m\u001b[38;5;124m'\u001b[39m,\u001b[38;5;124m'\u001b[39m\u001b[38;5;124me\u001b[39m\u001b[38;5;124m'\u001b[39m,\u001b[38;5;124m'\u001b[39m\u001b[38;5;124mi\u001b[39m\u001b[38;5;124m'\u001b[39m,\u001b[38;5;124m'\u001b[39m\u001b[38;5;124mo\u001b[39m\u001b[38;5;124m'\u001b[39m,\u001b[38;5;124m'\u001b[39m\u001b[38;5;124mu\u001b[39m\u001b[38;5;124m'\u001b[39m], size\u001b[38;5;241m=\u001b[39m[\u001b[38;5;241m10\u001b[39m,\u001b[38;5;241m4\u001b[39m])) \u001b[38;5;241m+\u001b[39m \u001b[38;5;124m'\u001b[39m\u001b[38;5;124ma\u001b[39m\u001b[38;5;124m'\u001b[39m\n",
      "\u001b[1;31mTypeError\u001b[0m: unsupported operand type(s) for +: 'NoneType' and 'str'"
     ]
    }
   ],
   "source": [
    "# no concatenation on string\n",
    "\n",
    "print(np.random.choice(['a','e','i','o','u'], size=[10,4])) + 'a'\n"
   ]
  },
  {
   "cell_type": "code",
   "execution_count": 5,
   "id": "b755760b",
   "metadata": {},
   "outputs": [
    {
     "name": "stdout",
     "output_type": "stream",
     "text": [
      "[[ 7  8  5  7  4]\n",
      " [ 4  8  8 10  1]\n",
      " [ 3  9  5  8  9]\n",
      " [ 1  6  3  1  9]\n",
      " [ 3  9  2  5  8]]\n"
     ]
    }
   ],
   "source": [
    "import numpy as np\n",
    "print(np.random.randint(0,10, size=[5,5]) + 1)"
   ]
  },
  {
   "cell_type": "markdown",
   "id": "b171f995",
   "metadata": {},
   "source": [
    "# min,max,mean, standard deviation"
   ]
  },
  {
   "cell_type": "code",
   "execution_count": 3,
   "id": "0e873c58",
   "metadata": {},
   "outputs": [
    {
     "name": "stdout",
     "output_type": "stream",
     "text": [
      "5\n",
      "679\n",
      "266.2857142857143\n",
      "236.3893364078569\n"
     ]
    }
   ],
   "source": [
    "import numpy as np\n",
    "\n",
    "a = np.array([132,34,546,245,5,223,679])\n",
    "print(np.min(a))\n",
    "print(np.max(a))\n",
    "print(np.mean(a))\n",
    "print(np.std(a))"
   ]
  },
  {
   "cell_type": "markdown",
   "id": "d10b18cb",
   "metadata": {},
   "source": [
    "# determinant - det()"
   ]
  },
  {
   "cell_type": "code",
   "execution_count": 5,
   "id": "585ad61a",
   "metadata": {},
   "outputs": [
    {
     "data": {
      "text/plain": [
       "259.0"
      ]
     },
     "execution_count": 5,
     "metadata": {},
     "output_type": "execute_result"
    }
   ],
   "source": [
    "import scipy.linalg as slin\n",
    "import numpy as np\n",
    "\n",
    "a = np.array([[ 3, -5, 8],\n",
    "              [-1, 2, 3],\n",
    "              [-5, -6, 2]])\n",
    "slin.det(a)"
   ]
  },
  {
   "cell_type": "markdown",
   "id": "ee951a70",
   "metadata": {},
   "source": [
    "# trace of the matrix - trace()"
   ]
  },
  {
   "cell_type": "code",
   "execution_count": 6,
   "id": "fbf43172",
   "metadata": {},
   "outputs": [
    {
     "data": {
      "text/plain": [
       "7"
      ]
     },
     "execution_count": 6,
     "metadata": {},
     "output_type": "execute_result"
    }
   ],
   "source": [
    "# trace = adding the diagonal elements of the matrix --trace()\n",
    "\n",
    "import numpy as np\n",
    "\n",
    "a = np.array([[ 3, -5, 8],\n",
    "              [-1, 2, 3],\n",
    "              [-5, -6, 2]])\n",
    "np.trace(a)"
   ]
  },
  {
   "cell_type": "markdown",
   "id": "aebb3a82",
   "metadata": {},
   "source": [
    "# inverse of the matrix - inv()"
   ]
  },
  {
   "cell_type": "code",
   "execution_count": 7,
   "id": "c30724a9",
   "metadata": {},
   "outputs": [
    {
     "data": {
      "text/plain": [
       "array([[ 0.08494208, -0.14671815, -0.11969112],\n",
       "       [-0.05019305,  0.17760618, -0.06563707],\n",
       "       [ 0.06177606,  0.16602317,  0.003861  ]])"
      ]
     },
     "execution_count": 7,
     "metadata": {},
     "output_type": "execute_result"
    }
   ],
   "source": [
    "import scipy.linalg as slin\n",
    "import numpy as np\n",
    "\n",
    "a = np.array([[ 3, -5, 8],\n",
    "              [-1, 2, 3],\n",
    "              [-5, -6, 2]])\n",
    "slin.inv(a)"
   ]
  },
  {
   "cell_type": "markdown",
   "id": "9d0d52df",
   "metadata": {},
   "source": [
    "# transpose of the matrix - transpose()"
   ]
  },
  {
   "cell_type": "code",
   "execution_count": 11,
   "id": "92bd1570",
   "metadata": {},
   "outputs": [
    {
     "data": {
      "text/plain": [
       "array([[ 3, -1, -5],\n",
       "       [-5,  2, -6],\n",
       "       [ 8,  3,  2]])"
      ]
     },
     "execution_count": 11,
     "metadata": {},
     "output_type": "execute_result"
    }
   ],
   "source": [
    "import numpy as np\n",
    "\n",
    "a = np.array([[ 3, -5, 8],\n",
    "              [-1, 2, 3],\n",
    "              [-5, -6, 2]])\n",
    "\n",
    "np.transpose(a)"
   ]
  },
  {
   "cell_type": "markdown",
   "id": "1d44df10",
   "metadata": {},
   "source": [
    "# matrix multiplication"
   ]
  },
  {
   "cell_type": "code",
   "execution_count": 14,
   "id": "b8f850b3",
   "metadata": {},
   "outputs": [
    {
     "data": {
      "text/plain": [
       "matrix([[ -3],\n",
       "        [  8],\n",
       "        [-37]])"
      ]
     },
     "execution_count": 14,
     "metadata": {},
     "output_type": "execute_result"
    }
   ],
   "source": [
    "# must use np.matrix instead of np.array for matrix multiplication\n",
    "\n",
    "import numpy as np\n",
    "\n",
    "a = np.matrix([[ 3, -5, 8],\n",
    "              [-1, 2, 3],\n",
    "              [-5, -6, 2]])\n",
    "\n",
    "b = np.matrix([[3],\n",
    "              [4],\n",
    "              [1]])\n",
    "\n",
    "a*b"
   ]
  },
  {
   "cell_type": "code",
   "execution_count": null,
   "id": "2111b169",
   "metadata": {},
   "outputs": [],
   "source": []
  }
 ],
 "metadata": {
  "kernelspec": {
   "display_name": "Python 3 (ipykernel)",
   "language": "python",
   "name": "python3"
  },
  "language_info": {
   "codemirror_mode": {
    "name": "ipython",
    "version": 3
   },
   "file_extension": ".py",
   "mimetype": "text/x-python",
   "name": "python",
   "nbconvert_exporter": "python",
   "pygments_lexer": "ipython3",
   "version": "3.11.5"
  }
 },
 "nbformat": 4,
 "nbformat_minor": 5
}
